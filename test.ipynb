{
 "metadata": {
  "language_info": {
   "codemirror_mode": {
    "name": "ipython",
    "version": 3
   },
   "file_extension": ".py",
   "mimetype": "text/x-python",
   "name": "python",
   "nbconvert_exporter": "python",
   "pygments_lexer": "ipython3",
   "version": "3.8.3-final"
  },
  "orig_nbformat": 2,
  "kernelspec": {
   "name": "python3",
   "display_name": "Python 3"
  }
 },
 "nbformat": 4,
 "nbformat_minor": 2,
 "cells": [
  {
   "cell_type": "code",
   "execution_count": 10,
   "metadata": {},
   "outputs": [
    {
     "output_type": "execute_result",
     "data": {
      "text/plain": [
       "(2, 8, 14, 20, 26, 32, 38, 44, 50, 56, 62, 68, 74, 80, 86, 92)"
      ]
     },
     "metadata": {},
     "execution_count": 10
    }
   ],
   "source": [
    "\n",
    "def make_inst_tuple(n):\n",
    "    inst = (n, n+6, n+12, n+18, n+24, n+30, n+36, n+42, n+48, n+54, n+60, n+66, n+72, n+78, n+84, n+90)\n",
    "    return inst\n",
    "\n",
    "inst1 = make_inst_tuple(0)\n",
    "inst2 = make_inst_tuple(1)\n",
    "inst3 = make_inst_tuple(2)\n",
    "inst4 = make_inst_tuple(3)\n",
    "inst5 = make_inst_tuple(4)\n",
    "inst6 = make_inst_tuple(5)\n",
    "\n",
    "inst3"
   ]
  },
  {
   "cell_type": "code",
   "execution_count": 3,
   "metadata": {},
   "outputs": [
    {
     "output_type": "stream",
     "name": "stdout",
     "text": [
      "[1, 2]\n"
     ]
    }
   ],
   "source": [
    "pushed = []\n",
    "pushed.append(1)\n",
    "pushed.append(2)\n",
    "print(pushed)"
   ]
  },
  {
   "cell_type": "code",
   "execution_count": null,
   "metadata": {},
   "outputs": [],
   "source": []
  }
 ]
}